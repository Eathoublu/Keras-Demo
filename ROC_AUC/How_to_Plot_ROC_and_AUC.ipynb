{
 "cells": [
  {
   "cell_type": "code",
   "execution_count": 1,
   "metadata": {},
   "outputs": [
    {
     "name": "stderr",
     "output_type": "stream",
     "text": [
      "/home/student1/anaconda3/envs/keras/lib/python3.6/site-packages/h5py/__init__.py:36: FutureWarning: Conversion of the second argument of issubdtype from `float` to `np.floating` is deprecated. In future, it will be treated as `np.float64 == np.dtype(float).type`.\n",
      "  from ._conv import register_converters as _register_converters\n"
     ]
    }
   ],
   "source": [
    "import tensorflow as tf\n",
    "import os\n",
    "os.environ[\"CUDA_VISIBLE_DEVICES\"] = \"1\"\n",
    "config = tf.ConfigProto()\n",
    "config.gpu_options.allow_growth = True\n",
    "#config.gpu_options.per_process_gpu_memory_fraction = 0.3\n",
    "#set_session(tf.Session(config=config))\n",
    "session = tf.Session(config=config)"
   ]
  },
  {
   "cell_type": "markdown",
   "metadata": {},
   "source": [
    "## 如何画ROC曲线以及计算AUC\n",
    "\n",
    "关于ROC和AUC的简单介绍请看 [ROC和AUC介绍以及如何计算AUC](http://alexkong.net/2013/06/introduction-to-auc-and-roc/)\n",
    "如何在Keras中计算请看 [How to compute Receiving Operating Characteristic (ROC) and AUC in keras?](https://stackoverflow.com/questions/41032551/how-to-compute-receiving-operating-characteristic-roc-and-auc-in-keras)\n",
    "\n",
    "当然，只看看是不行的，我们要动手实验实验，下面，我将用建立二元分类网络，用来判断cifar10图片是否是第三类"
   ]
  },
  {
   "cell_type": "code",
   "execution_count": 2,
   "metadata": {},
   "outputs": [
    {
     "name": "stderr",
     "output_type": "stream",
     "text": [
      "Using TensorFlow backend.\n"
     ]
    }
   ],
   "source": [
    "from keras.datasets import cifar10\n",
    "from keras.models import Sequential\n",
    "from keras.layers import Conv2D, MaxPooling2D, Flatten, Dense, BatchNormalization, Dropout\n",
    "\n",
    "from sklearn.metrics import roc_curve, roc_auc_score\n",
    "\n",
    "import numpy as np\n",
    "\n",
    "import matplotlib.pyplot as plt\n",
    "%matplotlib inline"
   ]
  },
  {
   "cell_type": "code",
   "execution_count": 3,
   "metadata": {},
   "outputs": [
    {
     "name": "stdout",
     "output_type": "stream",
     "text": [
      "x train shape:(50000, 32, 32, 3), y train shape:(50000, 1)\n",
      "x test shape:(10000, 32, 32, 3), y test shape:(10000, 1)\n"
     ]
    }
   ],
   "source": [
    "target_num = 3\n",
    "# 导入数据\n",
    "(x_train, y_train), (x_test, y_test) = cifar10.load_data()\n",
    "\n",
    "# 将数据分成两部分：偶数 奇数\n",
    "train_indices = np.where(y_train ==3)\n",
    "test_indeices = np.where(y_test == 3)\n",
    "\n",
    "# 二元分类问题，label为0或者1\n",
    "new_y_train = np.zeros_like(y_train, dtype='float32')\n",
    "new_y_test = np.zeros_like(y_test, dtype='float32')\n",
    "new_y_train[train_indices] = 1.0\n",
    "new_y_test[test_indeices] = 1.0\n",
    "del y_train\n",
    "del y_test\n",
    "\n",
    "# 预处理\n",
    "x_train = x_train.astype('float32')\n",
    "x_test = x_test.astype('float32')\n",
    "x_train /= 255.\n",
    "x_test /= 255.\n",
    "#x_train = np.expand_dims(x_train, axis=3)\n",
    "#x_test = np.expand_dims(x_test, axis=3)\n",
    "\n",
    "\n",
    "print('x train shape:{}, y train shape:{}'.format(x_train.shape, new_y_train.shape))\n",
    "print('x test shape:{}, y test shape:{}'.format(x_test.shape, new_y_test.shape))"
   ]
  },
  {
   "cell_type": "code",
   "execution_count": 4,
   "metadata": {},
   "outputs": [],
   "source": [
    "batch_size = 64\n",
    "epochs = 10"
   ]
  },
  {
   "cell_type": "code",
   "execution_count": 12,
   "metadata": {},
   "outputs": [],
   "source": [
    "# 建立模型\n",
    "# 先建立一个简单模型\n",
    "simple_model = Sequential()\n",
    "simple_model.add(Conv2D(4, (3,3), strides=(2,2), activation='relu', input_shape=(32, 32, 3)))\n",
    "simple_model.add(Flatten())\n",
    "simple_model.add(Dense(8, activation='relu'))\n",
    "simple_model.add(Dense(1, activation='sigmoid'))\n",
    "\n",
    "simple_model.compile(optimizer='adam', loss='binary_crossentropy', metrics=['acc'])"
   ]
  },
  {
   "cell_type": "code",
   "execution_count": 13,
   "metadata": {},
   "outputs": [
    {
     "name": "stdout",
     "output_type": "stream",
     "text": [
      "Train on 40000 samples, validate on 10000 samples\n",
      "Epoch 1/10\n",
      "40000/40000 [==============================] - 3s 76us/step - loss: 0.3071 - acc: 0.9003 - val_loss: 0.2945 - val_acc: 0.8984\n",
      "Epoch 2/10\n",
      "40000/40000 [==============================] - 3s 72us/step - loss: 0.2884 - acc: 0.9004 - val_loss: 0.2894 - val_acc: 0.8984\n",
      "Epoch 3/10\n",
      "40000/40000 [==============================] - 3s 72us/step - loss: 0.2818 - acc: 0.9004 - val_loss: 0.2836 - val_acc: 0.8984\n",
      "Epoch 4/10\n",
      "40000/40000 [==============================] - 3s 71us/step - loss: 0.2773 - acc: 0.9004 - val_loss: 0.2802 - val_acc: 0.8984\n",
      "Epoch 5/10\n",
      "40000/40000 [==============================] - 3s 71us/step - loss: 0.2727 - acc: 0.9005 - val_loss: 0.2756 - val_acc: 0.8990\n",
      "Epoch 6/10\n",
      "40000/40000 [==============================] - 3s 72us/step - loss: 0.2684 - acc: 0.9005 - val_loss: 0.2727 - val_acc: 0.8989\n",
      "Epoch 7/10\n",
      "40000/40000 [==============================] - 3s 71us/step - loss: 0.2629 - acc: 0.9004 - val_loss: 0.2766 - val_acc: 0.8982\n",
      "Epoch 8/10\n",
      "40000/40000 [==============================] - 3s 72us/step - loss: 0.2596 - acc: 0.9009 - val_loss: 0.2665 - val_acc: 0.8986\n",
      "Epoch 9/10\n",
      "40000/40000 [==============================] - 3s 73us/step - loss: 0.2579 - acc: 0.9012 - val_loss: 0.2683 - val_acc: 0.8983\n",
      "Epoch 10/10\n",
      "40000/40000 [==============================] - 3s 73us/step - loss: 0.2565 - acc: 0.9009 - val_loss: 0.2694 - val_acc: 0.8981\n"
     ]
    }
   ],
   "source": [
    "# 简单模型的训练\n",
    "history = simple_model.fit(x_train, new_y_train, batch_size=batch_size, epochs=epochs, validation_split=0.2)"
   ]
  },
  {
   "cell_type": "code",
   "execution_count": 14,
   "metadata": {},
   "outputs": [
    {
     "name": "stdout",
     "output_type": "stream",
     "text": [
      "AUC is 0.8081179444444444\n"
     ]
    }
   ],
   "source": [
    "# auc\n",
    "simple_prediction = simple_model.predict(x_test)\n",
    "simple_auc = roc_auc_score(new_y_test,simple_prediction)\n",
    "print('AUC is {}'.format(simple_auc))\n",
    "# ROC曲线 \n",
    "s_fpr, s_tpr, s_t = roc_curve(new_y_test, simple_prediction)"
   ]
  },
  {
   "cell_type": "code",
   "execution_count": 15,
   "metadata": {},
   "outputs": [
    {
     "data": {
      "image/png": "[encoded data removed]",
      "text/plain": [
       "<Figure size 432x288 with 1 Axes>"
      ]
     },
     "metadata": {},
     "output_type": "display_data"
    }
   ],
   "source": [
    "# plot roc curve\n",
    "plt.plot(s_fpr, s_tpr, 'b', label='Simple model roc curve')\n",
    "plt.legend()\n",
    "plt.show()"
   ]
  },
  {
   "cell_type": "code",
   "execution_count": 6,
   "metadata": {},
   "outputs": [],
   "source": [
    "# 复杂一点的模型\n",
    "model = Sequential()\n",
    "model.add(Conv2D(64, (3,3), activation='relu', input_shape=(32, 32, 3)))\n",
    "model.add(Conv2D(64, (3,3), activation='relu'))\n",
    "model.add(MaxPooling2D())\n",
    "model.add(Dropout(0.5))\n",
    "model.add(Conv2D(128, (3,3), activation='relu'))\n",
    "model.add(Conv2D(128, (3,3), activation='relu'))\n",
    "model.add(MaxPooling2D())\n",
    "model.add(Dropout(0.5))\n",
    "model.add(Conv2D(256, (3,3), activation='relu'))\n",
    "model.add(Conv2D(256, (3,3), activation='relu'))\n",
    "model.add(Dropout(0.5))\n",
    "\n",
    "model.add(Flatten())\n",
    "model.add(BatchNormalization())\n",
    "model.add(Dense(128, activation='relu'))\n",
    "model.add(Dropout(0.5))\n",
    "model.add(Dense(128, activation='relu'))\n",
    "model.add(Dropout(0.5))\n",
    "model.add(Dense(1, activation='sigmoid'))\n",
    "\n",
    "model.compile(optimizer='adam', loss='binary_crossentropy', metrics=['acc'])"
   ]
  },
  {
   "cell_type": "code",
   "execution_count": 7,
   "metadata": {},
   "outputs": [
    {
     "name": "stdout",
     "output_type": "stream",
     "text": [
      "Train on 40000 samples, validate on 10000 samples\n",
      "Epoch 1/10\n",
      "40000/40000 [==============================] - 16s 394us/step - loss: 0.3174 - acc: 0.8963 - val_loss: 0.4658 - val_acc: 0.8984\n",
      "Epoch 2/10\n",
      "40000/40000 [==============================] - 14s 361us/step - loss: 0.2840 - acc: 0.9004 - val_loss: 0.2701 - val_acc: 0.8984\n",
      "Epoch 3/10\n",
      "40000/40000 [==============================] - 14s 360us/step - loss: 0.2745 - acc: 0.9004 - val_loss: 0.2871 - val_acc: 0.8984\n",
      "Epoch 4/10\n",
      "40000/40000 [==============================] - 14s 360us/step - loss: 0.2695 - acc: 0.9004 - val_loss: 0.2701 - val_acc: 0.8984\n",
      "Epoch 5/10\n",
      "40000/40000 [==============================] - 14s 361us/step - loss: 0.2662 - acc: 0.9004 - val_loss: 0.2630 - val_acc: 0.8984\n",
      "Epoch 6/10\n",
      "40000/40000 [==============================] - 14s 359us/step - loss: 0.2583 - acc: 0.9003 - val_loss: 0.2963 - val_acc: 0.8984\n",
      "Epoch 7/10\n",
      "40000/40000 [==============================] - 14s 360us/step - loss: 0.2535 - acc: 0.9004 - val_loss: 0.3426 - val_acc: 0.8984\n",
      "Epoch 8/10\n",
      "40000/40000 [==============================] - 14s 361us/step - loss: 0.2490 - acc: 0.8999 - val_loss: 0.2628 - val_acc: 0.8984\n",
      "Epoch 9/10\n",
      "40000/40000 [==============================] - 14s 360us/step - loss: 0.2458 - acc: 0.9009 - val_loss: 0.3099 - val_acc: 0.8984\n",
      "Epoch 10/10\n",
      "40000/40000 [==============================] - 14s 359us/step - loss: 0.2403 - acc: 0.9001 - val_loss: 0.2893 - val_acc: 0.8984\n"
     ]
    },
    {
     "data": {
      "text/plain": [
       "<keras.callbacks.History at 0x7fbb7c1b70b8>"
      ]
     },
     "execution_count": 7,
     "metadata": {},
     "output_type": "execute_result"
    }
   ],
   "source": [
    "model.fit(x_train, new_y_train, batch_size=batch_size, epochs=epochs, validation_split=0.2)"
   ]
  },
  {
   "cell_type": "code",
   "execution_count": 10,
   "metadata": {},
   "outputs": [
    {
     "name": "stdout",
     "output_type": "stream",
     "text": [
      "AUC is 0.8575873333333334\n"
     ]
    }
   ],
   "source": [
    "# auc\n",
    "prediction = model.predict(x_test)\n",
    "auc = roc_auc_score(new_y_test,prediction)\n",
    "print('AUC is {}'.format(auc))\n",
    "# ROC曲线 \n",
    "fpr, tpr, t = roc_curve(new_y_test, prediction)"
   ]
  },
  {
   "cell_type": "code",
   "execution_count": 16,
   "metadata": {},
   "outputs": [
    {
     "data": {
      "image/png": "[encoded data removed]",
      "text/plain": [
       "<Figure size 432x288 with 1 Axes>"
      ]
     },
     "metadata": {},
     "output_type": "display_data"
    }
   ],
   "source": [
    "# plot roc curve\n",
    "plt.plot(s_fpr, s_tpr, 'b', label='Simple model roc curve')\n",
    "plt.plot(fpr, tpr, 'r', label='Model roc curve')\n",
    "\n",
    "plt.legend()\n",
    "plt.show()\n",
    "# 就下图而言，复杂模型效果好一些"
   ]
  },
  {
   "cell_type": "markdown",
   "metadata": {},
   "source": [
    "## 总结\n",
    "计算AUC和ROC的步骤为\n",
    "\n",
    "1. 计算模型在测试集上的prediction\n",
    "2. 调包啊！使用sklearn的roc_curve， roc_auc_score等等\n",
    "3. 画出曲线\n",
    "\n",
    "嗯，调包果然很简单！"
   ]
  }
 ],
 "metadata": {
  "kernelspec": {
   "display_name": "Python 3",
   "language": "python",
   "name": "python3"
  },
  "language_info": {
   "codemirror_mode": {
    "name": "ipython",
    "version": 3
   },
   "file_extension": ".py",
   "mimetype": "text/x-python",
   "name": "python",
   "nbconvert_exporter": "python",
   "pygments_lexer": "ipython3",
   "version": "3.6.4"
  }
 },
 "nbformat": 4,
 "nbformat_minor": 2
}
